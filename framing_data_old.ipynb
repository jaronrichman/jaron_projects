{
 "cells": [
  {
   "cell_type": "code",
   "execution_count": 1,
   "metadata": {
    "tags": []
   },
   "outputs": [],
   "source": [
    "import pandas as pd\n",
    "import numpy as np\n",
    "import os\n",
    "filepath = \"/Users/Jaron/Desktop/NCAA Scouting/2022_spring\""
   ]
  },
  {
   "cell_type": "markdown",
   "metadata": {},
   "source": []
  },
  {
   "cell_type": "code",
   "execution_count": 2,
   "metadata": {},
   "outputs": [],
   "source": [
    "shlig_games = [\"umbc 2-23-22.csv\", \"Delaware_20220301.csv\", \"vcu_20220308.csv\",\n",
    "              \"georgetown_20220312.csv\", \"georgetown_20220314_G2.csv\", \"siena_20220319_g1.csv\", \"umbc_20220322.csv\",\n",
    "              \"dallas_baptist_series.csv\", \"penn_state_20220401.csv\", \"penn_state_20220402.csv\", \"penn_state_20220403.csv\",\n",
    "              \"ohio_state_20220415_g1.csv\", \"ohio_state_20220416_g2.csv\"]\n",
    "\n",
    "\n",
    "riley_games = [\"cornell_20220313.csv\", \"towson_20220329.csv\", \"george_mason_20220405.csv\", \"navy_20220427_g1.csv\"]\n",
    "\n",
    "shlig_riley = {\"siena_20220320.csv\" :8, \"ohio_state_20220417_g3.csv\" :8}\n",
    "\n",
    "heff_riley = {\"siena_20220319_g2.csv\" :7}"
   ]
  },
  {
   "cell_type": "code",
   "execution_count": 3,
   "metadata": {},
   "outputs": [],
   "source": [
    "frames = []\n",
    "\n",
    "for files in os.listdir(filepath):\n",
    "    if files.endswith(\".csv\"):\n",
    "        df = pd.read_csv(filepath + '/' + files)\n",
    "        length = len(df)\n",
    "        if files in shlig_games:\n",
    "            Catcher = ['Luke Shliger'] * length\n",
    "            df['Catcher'] = Catcher\n",
    "        elif files in riley_games:\n",
    "            Catcher = ['Riley Langerman'] * length\n",
    "            df['Catcher'] = Catcher\n",
    "        elif files in shlig_riley:\n",
    "            length1 = len(df[(df[\"Inning\"] < shlig_riley[files])])\n",
    "            length2 = len(df[(df[\"Inning\"] >= shlig_riley[files])])\n",
    "            shlig = ['Luke Shliger'] * length1\n",
    "            riley = ['Riley Langerman'] * length2\n",
    "            df['Catcher'] = np.concatenate((shlig, riley))\n",
    "        elif files in heff_riley:\n",
    "            length1 = len(df[(df[\"Inning\"] < heff_riley[files])])\n",
    "            length2 = len(df[(df[\"Inning\"] >= heff_riley[files])])\n",
    "            heff = ['James Heffley'] * length1\n",
    "            riley = ['Riley Langerman'] * length2\n",
    "            df['Catcher'] = np.concatenate((heff, riley))\n",
    "            \n",
    "        frames.append(df)\n",
    "        \n",
    "season = pd.concat(frames)"
   ]
  },
  {
   "cell_type": "code",
   "execution_count": 4,
   "metadata": {},
   "outputs": [],
   "source": [
    "called_pitches = season[(season[\"PitchCall\"] == \"StrikeCalled\") \n",
    "                                   | (season[\"PitchCall\"] == \"BallCalled\")]\n",
    "\n",
    "called_pitches = called_pitches[[\"PitchCall\", \"PlateLocHeight\", \"PlateLocSide\"]]\n",
    "\n",
    "called_pitches.to_csv(\"called_pitches.csv\")"
   ]
  },
  {
   "cell_type": "code",
   "execution_count": 5,
   "metadata": {},
   "outputs": [
    {
     "data": {
      "text/html": [
       "<div>\n",
       "<style scoped>\n",
       "    .dataframe tbody tr th:only-of-type {\n",
       "        vertical-align: middle;\n",
       "    }\n",
       "\n",
       "    .dataframe tbody tr th {\n",
       "        vertical-align: top;\n",
       "    }\n",
       "\n",
       "    .dataframe thead th {\n",
       "        text-align: right;\n",
       "    }\n",
       "</style>\n",
       "<table border=\"1\" class=\"dataframe\">\n",
       "  <thead>\n",
       "    <tr style=\"text-align: right;\">\n",
       "      <th></th>\n",
       "      <th>PitchNo</th>\n",
       "      <th>Date</th>\n",
       "      <th>Time</th>\n",
       "      <th>PAofInning</th>\n",
       "      <th>PitchofPA</th>\n",
       "      <th>Pitcher</th>\n",
       "      <th>PitcherId</th>\n",
       "      <th>PitcherThrows</th>\n",
       "      <th>PitcherTeam</th>\n",
       "      <th>Batter</th>\n",
       "      <th>...</th>\n",
       "      <th>HitTrajectoryXc2</th>\n",
       "      <th>HitTrajectoryXc3</th>\n",
       "      <th>HitTrajectoryXc4</th>\n",
       "      <th>HitTrajectoryXc5</th>\n",
       "      <th>HitTrajectoryXc6</th>\n",
       "      <th>HitTrajectoryXc7</th>\n",
       "      <th>HitTrajectoryXc8</th>\n",
       "      <th>HitTrajectoryYc0</th>\n",
       "      <th>HitTrajectoryYc1</th>\n",
       "      <th>Unnamed: 0</th>\n",
       "    </tr>\n",
       "  </thead>\n",
       "  <tbody>\n",
       "    <tr>\n",
       "      <th>0</th>\n",
       "      <td>1</td>\n",
       "      <td>4/16/22</td>\n",
       "      <td>2:02:34 PM</td>\n",
       "      <td>1.0</td>\n",
       "      <td>1.0</td>\n",
       "      <td>Ryan Ramsey</td>\n",
       "      <td>ramsery46</td>\n",
       "      <td>Left</td>\n",
       "      <td>Maryland</td>\n",
       "      <td>Marcus Ernst</td>\n",
       "      <td>...</td>\n",
       "      <td>NaN</td>\n",
       "      <td>NaN</td>\n",
       "      <td>NaN</td>\n",
       "      <td>NaN</td>\n",
       "      <td>NaN</td>\n",
       "      <td>NaN</td>\n",
       "      <td>NaN</td>\n",
       "      <td>NaN</td>\n",
       "      <td>NaN</td>\n",
       "      <td>NaN</td>\n",
       "    </tr>\n",
       "    <tr>\n",
       "      <th>1</th>\n",
       "      <td>2</td>\n",
       "      <td>4/16/22</td>\n",
       "      <td>2:02:51 PM</td>\n",
       "      <td>1.0</td>\n",
       "      <td>2.0</td>\n",
       "      <td>Ryan Ramsey</td>\n",
       "      <td>ramsery46</td>\n",
       "      <td>Left</td>\n",
       "      <td>Maryland</td>\n",
       "      <td>Marcus Ernst</td>\n",
       "      <td>...</td>\n",
       "      <td>NaN</td>\n",
       "      <td>NaN</td>\n",
       "      <td>NaN</td>\n",
       "      <td>NaN</td>\n",
       "      <td>NaN</td>\n",
       "      <td>NaN</td>\n",
       "      <td>NaN</td>\n",
       "      <td>NaN</td>\n",
       "      <td>NaN</td>\n",
       "      <td>NaN</td>\n",
       "    </tr>\n",
       "    <tr>\n",
       "      <th>2</th>\n",
       "      <td>3</td>\n",
       "      <td>4/16/22</td>\n",
       "      <td>2:03:03 PM</td>\n",
       "      <td>1.0</td>\n",
       "      <td>3.0</td>\n",
       "      <td>Ryan Ramsey</td>\n",
       "      <td>ramsery46</td>\n",
       "      <td>Left</td>\n",
       "      <td>Maryland</td>\n",
       "      <td>Marcus Ernst</td>\n",
       "      <td>...</td>\n",
       "      <td>NaN</td>\n",
       "      <td>NaN</td>\n",
       "      <td>NaN</td>\n",
       "      <td>NaN</td>\n",
       "      <td>NaN</td>\n",
       "      <td>NaN</td>\n",
       "      <td>NaN</td>\n",
       "      <td>NaN</td>\n",
       "      <td>NaN</td>\n",
       "      <td>NaN</td>\n",
       "    </tr>\n",
       "    <tr>\n",
       "      <th>3</th>\n",
       "      <td>4</td>\n",
       "      <td>4/16/22</td>\n",
       "      <td>2:03:16 PM</td>\n",
       "      <td>1.0</td>\n",
       "      <td>4.0</td>\n",
       "      <td>Ryan Ramsey</td>\n",
       "      <td>ramsery46</td>\n",
       "      <td>Left</td>\n",
       "      <td>Maryland</td>\n",
       "      <td>Marcus Ernst</td>\n",
       "      <td>...</td>\n",
       "      <td>NaN</td>\n",
       "      <td>NaN</td>\n",
       "      <td>NaN</td>\n",
       "      <td>NaN</td>\n",
       "      <td>NaN</td>\n",
       "      <td>NaN</td>\n",
       "      <td>NaN</td>\n",
       "      <td>NaN</td>\n",
       "      <td>NaN</td>\n",
       "      <td>NaN</td>\n",
       "    </tr>\n",
       "    <tr>\n",
       "      <th>4</th>\n",
       "      <td>5</td>\n",
       "      <td>4/16/22</td>\n",
       "      <td>2:03:51 PM</td>\n",
       "      <td>2.0</td>\n",
       "      <td>1.0</td>\n",
       "      <td>Ryan Ramsey</td>\n",
       "      <td>ramsery46</td>\n",
       "      <td>Left</td>\n",
       "      <td>Maryland</td>\n",
       "      <td>Zach Dezenzo</td>\n",
       "      <td>...</td>\n",
       "      <td>NaN</td>\n",
       "      <td>NaN</td>\n",
       "      <td>NaN</td>\n",
       "      <td>NaN</td>\n",
       "      <td>NaN</td>\n",
       "      <td>NaN</td>\n",
       "      <td>NaN</td>\n",
       "      <td>NaN</td>\n",
       "      <td>NaN</td>\n",
       "      <td>NaN</td>\n",
       "    </tr>\n",
       "  </tbody>\n",
       "</table>\n",
       "<p>5 rows × 168 columns</p>\n",
       "</div>"
      ],
      "text/plain": [
       "   PitchNo     Date        Time  PAofInning  PitchofPA      Pitcher  \\\n",
       "0        1  4/16/22  2:02:34 PM         1.0        1.0  Ryan Ramsey   \n",
       "1        2  4/16/22  2:02:51 PM         1.0        2.0  Ryan Ramsey   \n",
       "2        3  4/16/22  2:03:03 PM         1.0        3.0  Ryan Ramsey   \n",
       "3        4  4/16/22  2:03:16 PM         1.0        4.0  Ryan Ramsey   \n",
       "4        5  4/16/22  2:03:51 PM         2.0        1.0  Ryan Ramsey   \n",
       "\n",
       "   PitcherId PitcherThrows PitcherTeam        Batter  ... HitTrajectoryXc2  \\\n",
       "0  ramsery46          Left    Maryland  Marcus Ernst  ...              NaN   \n",
       "1  ramsery46          Left    Maryland  Marcus Ernst  ...              NaN   \n",
       "2  ramsery46          Left    Maryland  Marcus Ernst  ...              NaN   \n",
       "3  ramsery46          Left    Maryland  Marcus Ernst  ...              NaN   \n",
       "4  ramsery46          Left    Maryland  Zach Dezenzo  ...              NaN   \n",
       "\n",
       "  HitTrajectoryXc3 HitTrajectoryXc4  HitTrajectoryXc5  HitTrajectoryXc6  \\\n",
       "0              NaN              NaN               NaN               NaN   \n",
       "1              NaN              NaN               NaN               NaN   \n",
       "2              NaN              NaN               NaN               NaN   \n",
       "3              NaN              NaN               NaN               NaN   \n",
       "4              NaN              NaN               NaN               NaN   \n",
       "\n",
       "  HitTrajectoryXc7  HitTrajectoryXc8  HitTrajectoryYc0  HitTrajectoryYc1  \\\n",
       "0              NaN               NaN               NaN               NaN   \n",
       "1              NaN               NaN               NaN               NaN   \n",
       "2              NaN               NaN               NaN               NaN   \n",
       "3              NaN               NaN               NaN               NaN   \n",
       "4              NaN               NaN               NaN               NaN   \n",
       "\n",
       "  Unnamed: 0  \n",
       "0        NaN  \n",
       "1        NaN  \n",
       "2        NaN  \n",
       "3        NaN  \n",
       "4        NaN  \n",
       "\n",
       "[5 rows x 168 columns]"
      ]
     },
     "execution_count": 5,
     "metadata": {},
     "output_type": "execute_result"
    }
   ],
   "source": [
    "maryland_pitchers = season[(season[\"PitcherTeam\"] == \"Maryland\")]\n",
    "\n",
    "maryland_pitchers.head()"
   ]
  },
  {
   "cell_type": "code",
   "execution_count": 6,
   "metadata": {},
   "outputs": [],
   "source": [
    "for ind, row in maryland_pitchers.iterrows():\n",
    "    if \",\" in row['Catcher']:\n",
    "        name = row['Catcher'].split(',')\n",
    "        maryland_pitchers.at[ind, 'Catcher'] = name[1].strip() + \" \" + name[0]"
   ]
  },
  {
   "cell_type": "code",
   "execution_count": 7,
   "metadata": {
    "scrolled": false
   },
   "outputs": [],
   "source": [
    "called_pitches = maryland_pitchers[(maryland_pitchers[\"PitchCall\"] == \"StrikeCalled\") \n",
    "                                   | (maryland_pitchers[\"PitchCall\"] == \"BallCalled\")]"
   ]
  },
  {
   "cell_type": "code",
   "execution_count": 8,
   "metadata": {},
   "outputs": [
    {
     "data": {
      "text/plain": [
       "Luke Shliger       4596\n",
       "Riley Langerman     636\n",
       "James Heffley        18\n",
       "Name: Catcher, dtype: int64"
      ]
     },
     "execution_count": 8,
     "metadata": {},
     "output_type": "execute_result"
    }
   ],
   "source": [
    "maryland_pitchers['Catcher'].value_counts()"
   ]
  },
  {
   "cell_type": "code",
   "execution_count": 9,
   "metadata": {},
   "outputs": [],
   "source": [
    "shliger = called_pitches[(called_pitches[\"Catcher\"] == \"Luke Shliger\")]\n",
    "riley = called_pitches[(called_pitches[\"Catcher\"] == \"Riley Langerman\")]\n",
    "heffley = called_pitches[(called_pitches[\"Catcher\"] == \"James Heffley\")]\n",
    "\n",
    "shliger = shliger[[\"PitchCall\", \"PlateLocHeight\", \"PlateLocSide\"]]\n",
    "riley = riley[[\"PitchCall\", \"PlateLocHeight\", \"PlateLocSide\"]]\n",
    "heffley = heffley[[\"PitchCall\", \"PlateLocHeight\", \"PlateLocSide\"]]"
   ]
  },
  {
   "cell_type": "code",
   "execution_count": 10,
   "metadata": {
    "scrolled": true
   },
   "outputs": [],
   "source": [
    "right_edge_mlb = -0.708333\n",
    "left_edge_mlb = 0.70833\n",
    "top_edge_mlb = 3.55\n",
    "bottom_edge_mlb = 1.71\n",
    "#shadow_zone is 0.2444226 in each direction of edge\n",
    "#mlb dimensions\n",
    "\n",
    "\n",
    "shlig_shadow = shliger[((shliger[\"PlateLocSide\"] >= -0.95333) &\n",
    "                      (shliger[\"PlateLocSide\"] <= -0.46333)) &\n",
    "                      ((shliger[\"PlateLocHeight\"] >= 1.2791667) &\n",
    "                      (shliger[\"PlateLocHeight\"] <= 3.918333)) |\n",
    "                    \n",
    "                      ((shliger[\"PlateLocSide\"] >= 0.463333) &\n",
    "                      (shliger[\"PlateLocSide\"] <= 0.95333)) &\n",
    "                      ((shliger[\"PlateLocHeight\"] >= 1.2791667) &\n",
    "                      (shliger[\"PlateLocHeight\"] <= 3.918333)) |\n",
    "                      \n",
    "                      ((shliger[\"PlateLocSide\"] >= -0.46333) &\n",
    "                      (shliger[\"PlateLocSide\"] <= 0.46333)) &\n",
    "                      ((shliger[\"PlateLocHeight\"] >= 1.2791667) &\n",
    "                      (shliger[\"PlateLocHeight\"] <= 1.7691667))|\n",
    "                      ((shliger[\"PlateLocHeight\"] >= 3.42833333) &\n",
    "                      (shliger[\"PlateLocHeight\"] <= 3.918333)) &\n",
    "                      \n",
    "                      (shliger[\"PlateLocSide\"] >= -0.95333) &\n",
    "                      (shliger[\"PlateLocSide\"] <= 0.95333)]\n",
    "\n",
    "\n",
    "#Bottom: 1.5241667\n",
    "#Top: 3.6733333\n",
    "#Side: 0.70833\n",
    "#Shadow: 0.245"
   ]
  },
  {
   "cell_type": "code",
   "execution_count": 11,
   "metadata": {},
   "outputs": [],
   "source": [
    "#Catcher Viewpoint\n",
    "#Dimensions in Rob's Umpire Dashboard\n",
    "right_edge = -0.85\n",
    "left_edge = 0.85\n",
    "top_edge = 3.6\n",
    "bottom_edge = 1.5\n",
    "shadow = 0.245\n",
    "\n",
    "shlig_shadow_rob = shliger[((shliger[\"PlateLocSide\"] >= (right_edge - shadow)) &\n",
    "                      (shliger[\"PlateLocSide\"] <= (right_edge + shadow))) &\n",
    "                      ((shliger[\"PlateLocHeight\"] >= (bottom_edge - shadow)) &\n",
    "                      (shliger[\"PlateLocHeight\"] <= (top_edge + shadow))) |\n",
    "                    \n",
    "                      ((shliger[\"PlateLocSide\"] >= (left_edge - shadow)) &\n",
    "                      (shliger[\"PlateLocSide\"] <= (left_edge + shadow))) &\n",
    "                      ((shliger[\"PlateLocHeight\"] >= (bottom_edge - shadow)) &\n",
    "                      (shliger[\"PlateLocHeight\"] <= (top_edge + shadow))) |\n",
    "                      \n",
    "                      ((shliger[\"PlateLocSide\"] >= (right_edge + shadow)) &\n",
    "                      (shliger[\"PlateLocSide\"] <= (left_edge - shadow))) &\n",
    "                      ((shliger[\"PlateLocHeight\"] >= (bottom_edge - shadow)) &\n",
    "                      (shliger[\"PlateLocHeight\"] <= (bottom_edge + shadow)))|\n",
    "                      ((shliger[\"PlateLocHeight\"] >= (top_edge - shadow)) &\n",
    "                      (shliger[\"PlateLocHeight\"] <= (top_edge + shadow))) &\n",
    "                      \n",
    "                      (shliger[\"PlateLocSide\"] >= (right_edge - shadow)) &\n",
    "                      (shliger[\"PlateLocSide\"] <= (left_edge + shadow))]"
   ]
  },
  {
   "cell_type": "code",
   "execution_count": 12,
   "metadata": {},
   "outputs": [],
   "source": [
    "#Catcher Viewpoint\n",
    "#UMD zone in 2022\n",
    "right_edge = -1.1\n",
    "left_edge = 1.1\n",
    "top_edge = 3.6\n",
    "bottom_edge = 1.5\n",
    "shadow = 0.245\n",
    "\n",
    "shlig_shadow_college = shliger[((shliger[\"PlateLocSide\"] >= (right_edge - shadow)) &\n",
    "                      (shliger[\"PlateLocSide\"] <= (right_edge + shadow))) &\n",
    "                      ((shliger[\"PlateLocHeight\"] >= (bottom_edge - shadow)) &\n",
    "                      (shliger[\"PlateLocHeight\"] <= (top_edge + shadow))) |\n",
    "                    \n",
    "                      ((shliger[\"PlateLocSide\"] >= (left_edge - shadow)) &\n",
    "                      (shliger[\"PlateLocSide\"] <= (left_edge + shadow))) &\n",
    "                      ((shliger[\"PlateLocHeight\"] >= (bottom_edge - shadow)) &\n",
    "                      (shliger[\"PlateLocHeight\"] <= (top_edge + shadow))) |\n",
    "                      \n",
    "                      ((shliger[\"PlateLocSide\"] >= (right_edge + shadow)) &\n",
    "                      (shliger[\"PlateLocSide\"] <= (left_edge - shadow))) &\n",
    "                      ((shliger[\"PlateLocHeight\"] >= (bottom_edge - shadow)) &\n",
    "                      (shliger[\"PlateLocHeight\"] <= (bottom_edge + shadow)))|\n",
    "                      ((shliger[\"PlateLocHeight\"] >= (top_edge - shadow)) &\n",
    "                      (shliger[\"PlateLocHeight\"] <= (top_edge + shadow))) &\n",
    "                      \n",
    "                      (shliger[\"PlateLocSide\"] >= (right_edge - shadow)) &\n",
    "                      (shliger[\"PlateLocSide\"] <= (left_edge + shadow))]"
   ]
  },
  {
   "cell_type": "code",
   "execution_count": 71,
   "metadata": {},
   "outputs": [],
   "source": [
    "#Catcher Viewpoint\n",
    "#UMD zone in 2022\n",
    "right_edge_college = -1.1\n",
    "right_edge_rob = -0.85\n",
    "left_edge_college = 1.1\n",
    "left_edge_rob = 0.85\n",
    "top_edge_college = 3.4\n",
    "top_edge_rob = 3.5\n",
    "bottom_edge_college = 1.6\n",
    "bottom_edge_rob = 1.5\n",
    "shadow = 0.245\n",
    "\n",
    "right_edge = right_edge_college\n",
    "left_edge = left_edge_college\n",
    "top_edge = top_edge_college\n",
    "bottom_edge = bottom_edge_college\n",
    "kzone = shliger\n",
    "\n",
    "zone11 = kzone[((kzone[\"PlateLocSide\"] >= (left_edge - shadow)) &\n",
    "                         (kzone[\"PlateLocSide\"] <= (left_edge + shadow))) &\n",
    "                         ((kzone[\"PlateLocHeight\"] <= (top_edge + shadow)) &\n",
    "                         (kzone[\"PlateLocHeight\"] >= (top_edge - shadow)))]\n",
    "\n",
    "zone12 = kzone[((kzone[\"PlateLocSide\"] >= (right_edge + shadow)) &\n",
    "                         (kzone[\"PlateLocSide\"] <= (left_edge - shadow))) &\n",
    "                         ((kzone[\"PlateLocHeight\"] <= (top_edge + shadow)) &\n",
    "                         (kzone[\"PlateLocHeight\"] >= (top_edge - shadow)))]\n",
    "\n",
    "zone13 = kzone[((kzone[\"PlateLocSide\"] >= (right_edge - shadow)) &\n",
    "                         (kzone[\"PlateLocSide\"] <= (right_edge + shadow))) &\n",
    "                         ((kzone[\"PlateLocHeight\"] <= (top_edge + shadow)) &\n",
    "                         (kzone[\"PlateLocHeight\"] >= (top_edge - shadow)))]\n",
    "\n",
    "zone14 = kzone[((kzone[\"PlateLocSide\"] >= (left_edge - shadow)) &\n",
    "                         (kzone[\"PlateLocSide\"] <= (left_edge + shadow))) &\n",
    "                         ((kzone[\"PlateLocHeight\"] <= (top_edge - shadow)) &\n",
    "                         (kzone[\"PlateLocHeight\"] >= (bottom_edge + shadow)))]\n",
    "\n",
    "zone16 = kzone[((kzone[\"PlateLocSide\"] >= (right_edge - shadow)) &\n",
    "                         (kzone[\"PlateLocSide\"] <= (right_edge + shadow))) &\n",
    "                         ((kzone[\"PlateLocHeight\"] <= (top_edge - shadow)) &\n",
    "                         (kzone[\"PlateLocHeight\"] >= (bottom_edge + shadow)))]\n",
    "\n",
    "zone17 = kzone[((kzone[\"PlateLocSide\"] >= (left_edge - shadow)) &\n",
    "                         (kzone[\"PlateLocSide\"] <= (left_edge + shadow))) &\n",
    "                         ((kzone[\"PlateLocHeight\"] <= (bottom_edge + shadow)) &\n",
    "                         (kzone[\"PlateLocHeight\"] >= (bottom_edge - shadow)))]\n",
    "\n",
    "zone18 = kzone[((kzone[\"PlateLocSide\"] >= (right_edge + shadow)) &\n",
    "                         (kzone[\"PlateLocSide\"] <= (left_edge - shadow))) &\n",
    "                         ((kzone[\"PlateLocHeight\"] <= (bottom_edge + shadow)) &\n",
    "                         (kzone[\"PlateLocHeight\"] >= (bottom_edge - shadow)))]\n",
    "\n",
    "zone19 = kzone[((kzone[\"PlateLocSide\"] >= (right_edge - shadow)) &\n",
    "                         (kzone[\"PlateLocSide\"] <= (right_edge + shadow))) &\n",
    "                         ((kzone[\"PlateLocHeight\"] <= (bottom_edge + shadow)) &\n",
    "                         (kzone[\"PlateLocHeight\"] >= (bottom_edge - shadow)))]"
   ]
  },
  {
   "cell_type": "code",
   "execution_count": 74,
   "metadata": {
    "scrolled": true
   },
   "outputs": [
    {
     "data": {
      "text/plain": [
       "BallCalled      0.578313\n",
       "StrikeCalled    0.421687\n",
       "Name: PitchCall, dtype: float64"
      ]
     },
     "execution_count": 74,
     "metadata": {},
     "output_type": "execute_result"
    }
   ],
   "source": [
    "zone19['PitchCall'].value_counts(\"StrikeCalled\")"
   ]
  },
  {
   "cell_type": "code",
   "execution_count": 58,
   "metadata": {},
   "outputs": [],
   "source": [
    "def define_zone(row):\n",
    "    if row[\"PlateLocSide\"] < (bottom_edge_college - shadow_zone):\n",
    "        vert = \"bad_ball\"\n",
    "    elif row[\"PlateLocSide\"] < (bottom_edge_college + shadow_zone):\n",
    "        vert = \"bottom\"\n",
    "    elif row[\"PlateLocSide\"] < (top_edge_college - shadow_zone):\n",
    "        vert = \"middle\"\n",
    "    elif row[\"PlateLocSide\"] < (top_edge_college + shadow_zone):\n",
    "        vert = \"high\"\n",
    "    else:\n",
    "        vert = \"bad_ball\"\n",
    "        "
   ]
  },
  {
   "cell_type": "code",
   "execution_count": null,
   "metadata": {},
   "outputs": [],
   "source": []
  },
  {
   "cell_type": "code",
   "execution_count": null,
   "metadata": {},
   "outputs": [],
   "source": [
    "df[\"zone\"] = df.apply(define_zone, axis = 1)\n",
    "\n"
   ]
  },
  {
   "cell_type": "code",
   "execution_count": null,
   "metadata": {},
   "outputs": [],
   "source": []
  },
  {
   "cell_type": "code",
   "execution_count": 34,
   "metadata": {
    "scrolled": true
   },
   "outputs": [
    {
     "data": {
      "text/plain": [
       "<AxesSubplot:xlabel='PlateLocSide', ylabel='PlateLocHeight'>"
      ]
     },
     "execution_count": 34,
     "metadata": {},
     "output_type": "execute_result"
    },
    {
     "data": {
      "image/png": "[encoded data removed]",
      "text/plain": [
       "<Figure size 432x288 with 1 Axes>"
      ]
     },
     "metadata": {
      "needs_background": "light"
     },
     "output_type": "display_data"
    }
   ],
   "source": [
    "#Pitcher POV\n",
    "\n",
    "shlig_shadow_college.plot.scatter(x = \"PlateLocSide\", y = \"PlateLocHeight\", s = 10)"
   ]
  },
  {
   "cell_type": "code",
   "execution_count": null,
   "metadata": {},
   "outputs": [],
   "source": []
  },
  {
   "cell_type": "code",
   "execution_count": null,
   "metadata": {},
   "outputs": [],
   "source": []
  },
  {
   "cell_type": "code",
   "execution_count": null,
   "metadata": {},
   "outputs": [],
   "source": []
  },
  {
   "cell_type": "code",
   "execution_count": null,
   "metadata": {},
   "outputs": [],
   "source": []
  },
  {
   "cell_type": "code",
   "execution_count": null,
   "metadata": {
    "scrolled": true
   },
   "outputs": [],
   "source": []
  },
  {
   "cell_type": "code",
   "execution_count": null,
   "metadata": {},
   "outputs": [],
   "source": []
  },
  {
   "cell_type": "code",
   "execution_count": null,
   "metadata": {
    "scrolled": true
   },
   "outputs": [],
   "source": []
  },
  {
   "cell_type": "code",
   "execution_count": null,
   "metadata": {},
   "outputs": [],
   "source": []
  },
  {
   "cell_type": "code",
   "execution_count": null,
   "metadata": {},
   "outputs": [],
   "source": []
  }
 ],
 "metadata": {
  "kernelspec": {
   "display_name": "Python 3 (ipykernel)",
   "language": "python",
   "name": "python3"
  },
  "language_info": {
   "codemirror_mode": {
    "name": "ipython",
    "version": 3
   },
   "file_extension": ".py",
   "mimetype": "text/x-python",
   "name": "python",
   "nbconvert_exporter": "python",
   "pygments_lexer": "ipython3",
   "version": "3.9.10"
  }
 },
 "nbformat": 4,
 "nbformat_minor": 4
}
