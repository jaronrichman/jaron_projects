{
 "cells": [
  {
   "cell_type": "code",
   "execution_count": 53,
   "id": "e80b4698-d1c7-4aff-8203-64668cc0c0bb",
   "metadata": {},
   "outputs": [],
   "source": [
    "import pandas as pd\n",
    "import numpy as np\n",
    "import os\n",
    "import turtle\n",
    "filepath = \"C:/Users/danlo/Desktop/2022season\"\n",
    "\n"
   ]
  },
  {
   "cell_type": "code",
   "execution_count": 54,
   "id": "6881dc22-4112-4f0f-919e-e52155da3c75",
   "metadata": {},
   "outputs": [
    {
     "name": "stdout",
     "output_type": "stream",
     "text": [
      "baylor_series_22.csv\n",
      "campbell_20220225_1.csv\n",
      "campbell_20220226_2_3.csv\n",
      "cornell_20220313.csv\n",
      "dallas_baptist_series.csv\n",
      "Delaware_20220301.csv\n",
      "ecu_20220306_1.csv\n",
      "georgetown_20220312.csv\n",
      "georgetown_20220314_G2.csv\n",
      "georgetown_20220503_g3.csv\n",
      "george_mason_20220405.csv\n",
      "illinois_series.csv\n",
      "jmu_20220517_g2.csv\n",
      "michigan_20220513_g1.csv\n",
      "michigan_20220514_g2.csv\n",
      "michigan_20220515_g3.csv\n",
      "navy_20220427_g1.csv\n",
      "northwestern_20220429_g1.csv\n",
      "northwestern_20220430_g2.csv\n",
      "northwestern_20220501_g3.csv\n",
      "ohio_state_20220415_g1.csv\n",
      "ohio_state_20220416_g2.csv\n",
      "ohio_state_20220417_g3.csv\n",
      "penn_state_20220401.csv\n",
      "penn_state_20220402.csv\n",
      "penn_state_20220403.csv\n",
      "purdue_series.csv\n",
      "siena_20220319_g1.csv\n",
      "siena_20220319_g2.csv\n",
      "siena_20220320.csv\n",
      "towson_20220329.csv\n",
      "umbc 2-23-22.csv\n",
      "umbc_20220322.csv\n",
      "vcu_20220308.csv\n"
     ]
    },
    {
     "data": {
      "text/plain": [
       "Ryan Ramsey        705\n",
       "Jason Savacool     696\n",
       "Nick Dean          543\n",
       "Savacool, Jason    503\n",
       "Logan Ott          433\n",
       "                  ... \n",
       "Matt Kennedy         8\n",
       "Reed Smith           8\n",
       "Colton Bare          7\n",
       "Carter Cousins       6\n",
       "Jake Keaser          5\n",
       "Name: Pitcher, Length: 210, dtype: int64"
      ]
     },
     "execution_count": 54,
     "metadata": {},
     "output_type": "execute_result"
    }
   ],
   "source": [
    "zones = []\n",
    "for file in os.listdir(filepath):\n",
    "    print(file)\n",
    "    if file.endswith('.csv'):\n",
    "        df = pd.read_csv(filepath + '/' + file)\n",
    "        zones.append(df)\n",
    "        season = pd.concat(zones)\n",
    "   \n",
    "season['Pitcher'].value_counts()\n"
   ]
  },
  {
   "cell_type": "code",
   "execution_count": null,
   "id": "c6c363c1-b093-41f9-84e6-0a3ae648e452",
   "metadata": {},
   "outputs": [],
   "source": [
    "#maryland_hitting = season[season[\"BatterTeam\"] == \"Maryland\"]\n",
    "#maryland_hitting['PitchCall'].value_counts()"
   ]
  },
  {
   "cell_type": "code",
   "execution_count": 44,
   "id": "f4fa721f-b0c8-4f78-a575-fde3693af631",
   "metadata": {},
   "outputs": [],
   "source": [
    "overallzone = season[(season['PlateLocHeight'] > 1.55) & (season['PlateLocHeight'] < 3.45) & (season['PlateLocSide'] > -1.1) & (season['PlateLocSide'] < 1.1)]\n",
    "zone1 = season[(season['PlateLocHeight'] > 2.82) & (season['PlateLocHeight'] < 3.45) & (season['PlateLocSide'] > -1.1) & (season['PlateLocSide'] < -.367)]\n",
    "zone2 = season[(season['PlateLocHeight'] > 2.82) & (season['PlateLocHeight'] < 3.45) & (season['PlateLocSide'] > -.367) & (season['PlateLocSide'] < .367)]\n",
    "zone3 = season[(season['PlateLocHeight'] > 2.82) & (season['PlateLocHeight'] < 3.45) & (season['PlateLocSide'] > .367) & (season['PlateLocSide'] < 1.1)]\n",
    "zone4 = season[(season['PlateLocHeight'] > 2.21) & (season['PlateLocHeight'] < 2.82) & (season['PlateLocSide'] > -1.1) & (season['PlateLocSide'] < -.367)]\n",
    "zone5 = season[(season['PlateLocHeight'] > 2.21) & (season['PlateLocHeight'] < 2.82) & (season['PlateLocSide'] > -.367) & (season['PlateLocSide'] < .367)]\n",
    "zone6 = season[(season['PlateLocHeight'] > 2.21) & (season['PlateLocHeight'] < 2.82) & (season['PlateLocSide'] > .367) & (season['PlateLocSide'] < 1.1)]\n",
    "zone7 = season[(season['PlateLocHeight'] > 1.55) & (season['PlateLocHeight'] < 2.21) & (season['PlateLocSide'] > -1.1) & (season['PlateLocSide'] < -.367)]\n",
    "zone8 = season[(season['PlateLocHeight'] > 1.55) & (season['PlateLocHeight'] < 2.21) & (season['PlateLocSide'] > -.367) & (season['PlateLocSide'] < .367)]\n",
    "zone9 = season[(season['PlateLocHeight'] > 1.55) & (season['PlateLocHeight'] < 2.21) & (season['PlateLocSide'] > .367) & (season['PlateLocSide'] < 1.1)]\n",
    "RightThird = season[(season['PlateLocHeight'] > 1.55) & (season['PlateLocHeight'] < 3.45) & (season['PlateLocSide'] > .367) & (season['PlateLocSide'] < 1.1)]\n",
    "MiddleThird = season[(season['PlateLocHeight'] > 1.55) & (season['PlateLocHeight'] < 3.45) & (season['PlateLocSide'] > -.367) & (season['PlateLocSide'] < .367)]\n",
    "LeftThird = season[(season['PlateLocHeight'] > 1.55) & (season['PlateLocHeight'] < 3.45) & (season['PlateLocSide'] > -1.1) & (season['PlateLocSide'] < -.367)]\n",
    "\n",
    "\n",
    "\n",
    "\n"
   ]
  },
  {
   "cell_type": "code",
   "execution_count": 62,
   "id": "8469b183-b4da-49ec-a754-fcd8dd81a839",
   "metadata": {},
   "outputs": [
    {
     "data": {
      "text/plain": [
       "100.482660    1\n",
       "81.617154     1\n",
       "90.678962     1\n",
       "89.421671     1\n",
       "85.510454     1\n",
       "             ..\n",
       "100.812797    1\n",
       "104.966718    1\n",
       "72.926276     1\n",
       "102.794382    1\n",
       "86.577841     1\n",
       "Name: ExitSpeed, Length: 70, dtype: int64"
      ]
     },
     "execution_count": 62,
     "metadata": {},
     "output_type": "execute_result"
    }
   ],
   "source": [
    "Shaw = season[season['Batter'] == \"Matt Shaw\"] \n",
    "InPlay = Shaw[Shaw['PitchCall'] == \"InPlay\"]\n",
    "InPlay['ExitSpeed'].value_counts()\n",
    "#AverageEV = Shaw['ExitSpeed'].mean()\n",
    "#print(AverageEV)"
   ]
  },
  {
   "cell_type": "code",
   "execution_count": null,
   "id": "756ae540-d938-4030-b5b1-5fb994b6de5c",
   "metadata": {},
   "outputs": [],
   "source": [
    "Shaw.plot.scatter(x = 'PlateLocSide', y = 'PlateLocHeight', s = 'ExitSpeed')\n"
   ]
  }
 ],
 "metadata": {
  "kernelspec": {
   "display_name": "Python 3 (ipykernel)",
   "language": "python",
   "name": "python3"
  },
  "language_info": {
   "codemirror_mode": {
    "name": "ipython",
    "version": 3
   },
   "file_extension": ".py",
   "mimetype": "text/x-python",
   "name": "python",
   "nbconvert_exporter": "python",
   "pygments_lexer": "ipython3",
   "version": "3.9.7"
  }
 },
 "nbformat": 4,
 "nbformat_minor": 5
}
